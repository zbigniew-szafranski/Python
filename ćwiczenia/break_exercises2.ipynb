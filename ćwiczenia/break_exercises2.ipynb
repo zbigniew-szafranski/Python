{
 "cells": [
  {
   "cell_type": "code",
   "id": "initial_id",
   "metadata": {
    "collapsed": true,
    "ExecuteTime": {
     "end_time": "2025-06-09T10:49:12.030775Z",
     "start_time": "2025-06-09T10:49:12.026738Z"
    }
   },
   "source": [
    "# Zadanie 1: Znajdź liczbę 7 w przedziale od 1 do 10 używając pętli for i break\n",
    "for i in range(1, 11):\n",
    "    if i == 7:\n",
    "        print(\"Znaleziono liczbę 7!\")\n",
    "        break"
   ],
   "outputs": [
    {
     "name": "stdout",
     "output_type": "stream",
     "text": [
      "Znaleziono liczbę 7!\n"
     ]
    }
   ],
   "execution_count": 1
  },
  {
   "metadata": {
    "ExecuteTime": {
     "end_time": "2025-06-09T10:49:20.117914Z",
     "start_time": "2025-06-09T10:49:20.113663Z"
    }
   },
   "cell_type": "code",
   "source": [
    "# Zadanie 2: Sprawdź czy w podanym haśle znajduje się znak '@'. Jeśli tak, przerwij sprawdzanie.\n",
    "haslo = \"test@haslo123\"\n",
    "for znak in haslo:\n",
    "    if znak == '@':\n",
    "        print(\"Znaleziono znak @!\")\n",
    "        break"
   ],
   "id": "55877aaf68619b5e",
   "outputs": [
    {
     "name": "stdout",
     "output_type": "stream",
     "text": [
      "Znaleziono znak @!\n"
     ]
    }
   ],
   "execution_count": 2
  },
  {
   "metadata": {
    "ExecuteTime": {
     "end_time": "2025-06-09T10:49:34.214818Z",
     "start_time": "2025-06-09T10:49:34.209746Z"
    }
   },
   "cell_type": "code",
   "source": [
    "# Zadanie 3: Znajdź pierwszą parzystą liczbę w zakresie od 1 do 100, która jest podzielna przez 7\n",
    "for i in range(1, 101):\n",
    "    if i % 2 == 0 and i % 7 == 0:\n",
    "        print(f\"Pierwsza parzysta liczba podzielna przez 7 to: {i}\")\n",
    "        break"
   ],
   "id": "ef6ec0bd0c1918a5",
   "outputs": [
    {
     "name": "stdout",
     "output_type": "stream",
     "text": [
      "Pierwsza parzysta liczba podzielna przez 7 to: 14\n"
     ]
    }
   ],
   "execution_count": 3
  },
  {
   "metadata": {},
   "cell_type": "code",
   "outputs": [],
   "execution_count": null,
   "source": "",
   "id": "f7b3c9c0a7c2d42b"
  }
 ],
 "metadata": {
  "kernelspec": {
   "display_name": "Python 3",
   "language": "python",
   "name": "python3"
  },
  "language_info": {
   "codemirror_mode": {
    "name": "ipython",
    "version": 2
   },
   "file_extension": ".py",
   "mimetype": "text/x-python",
   "name": "python",
   "nbconvert_exporter": "python",
   "pygments_lexer": "ipython2",
   "version": "2.7.6"
  }
 },
 "nbformat": 4,
 "nbformat_minor": 5
}
