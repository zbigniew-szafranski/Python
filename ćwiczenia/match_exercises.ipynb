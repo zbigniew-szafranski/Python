{
 "cells": [
  {
   "cell_type": "code",
   "id": "initial_id",
   "metadata": {
    "collapsed": true,
    "ExecuteTime": {
     "end_time": "2025-06-09T10:57:47.643507Z",
     "start_time": "2025-06-09T10:57:42.790214Z"
    }
   },
   "source": [
    "# Zadanie 1: Prosty wybór dnia tygodnia\n",
    "# Napisz program używający match-case, który przyjmuje numer dnia tygodnia (1-7)\n",
    "# i wyświetla jego nazwę po polsku.\n",
    "def get_day_name(day: int) -> str:\n",
    "    match day:\n",
    "        case 1: return \"Poniedziałek\"\n",
    "        case 2: return \"Wtorek\"\n",
    "        case 3: return \"Środa\"\n",
    "        case 4: return \"Czwartek\"\n",
    "        case 5: return \"Piątek\"\n",
    "        case 6: return \"Sobota\"\n",
    "        case 7: return \"Niedziela\"\n",
    "        case _: return \"Nieprawidłowy dzień\"\n",
    "    return \"Nieprawidłowy dzień\"\n",
    "day_number = int(input(\"Podaj numer dnia tygodnia: \"))\n",
    "print(get_day_name(day_number))"
   ],
   "outputs": [
    {
     "name": "stdout",
     "output_type": "stream",
     "text": [
      "Nieprawidłowy dzień\n"
     ]
    }
   ],
   "execution_count": 3
  },
  {
   "metadata": {},
   "cell_type": "code",
   "outputs": [],
   "execution_count": null,
   "source": [
    "# Zadanie 2: Kalkulator podstawowych działań\n",
    "def calculator(operation: str, a: float, b: float) -> float:\n",
    "    match operation:\n",
    "        case \"+\": return a + b\n",
    "        case \"-\": return a - b\n",
    "        case \"*\": return a * b\n",
    "        case \"/\":\n",
    "            if b != 0:\n",
    "                return a / b\n",
    "            raise ValueError(\"Dzielenie przez zero!\")\n",
    "        case _: raise ValueError(\"Nieznane działanie\")"
   ],
   "id": "de386fcbd281cb7a"
  },
  {
   "metadata": {},
   "cell_type": "code",
   "outputs": [],
   "execution_count": null,
   "source": [
    "# Zadanie 3: Statusy zamówienia\n",
    "def process_order_status(status: str) -> str:\n",
    "    match status.lower():\n",
    "        case \"nowe\":\n",
    "            return \"Zamówienie przyjęte do realizacji. Rozpoczynamy kompletowanie.\"\n",
    "        case \"w realizacji\":\n",
    "            return \"Twoje zamówienie jest właśnie kompletowane.\"\n",
    "        case \"wysłane\":\n",
    "            return \"Zamówienie w drodze! Śledź przesyłkę.\"\n",
    "        case \"dostarczone\":\n",
    "            return \"Zamówienie dostarczono. Dziękujemy za zakupy!\"\n",
    "        case \"anulowane\":\n",
    "            return \"Zamówienie zostało anulowane.\"\n",
    "        case _:\n",
    "            return \"Nieznany status zamówienia.\""
   ],
   "id": "b7b95e34ee968b4e"
  },
  {
   "metadata": {},
   "cell_type": "code",
   "outputs": [],
   "execution_count": null,
   "source": [
    "# Zadanie 4: Analiza punktów w grze\n",
    "def analyze_game_result(result: tuple) -> str:\n",
    "    match result:\n",
    "        case (points, time, level) if points > 1000 and time < 60 and level > 5:\n",
    "            return \"Mistrz\"\n",
    "        case (points, _, level) if points > 750 and level > 3:\n",
    "            return \"Expert\"\n",
    "        case (points, time, _) if points > 500 and time < 120:\n",
    "            return \"Zaawansowany\"\n",
    "        case (points, _, _) if points > 250:\n",
    "            return \"Średniozaawansowany\"\n",
    "        case _:\n",
    "            return \"Początkujący\""
   ],
   "id": "eeaa5868ad130ecd"
  },
  {
   "metadata": {},
   "cell_type": "code",
   "outputs": [],
   "execution_count": null,
   "source": [
    "# Zadanie 5: Parser komend gry\n",
    "def parse_game_command(command: dict) -> str:\n",
    "    match command:\n",
    "        case {\"action\": \"use\", \"item\": item, \"target\": \"self\"}:\n",
    "            return f\"Używasz {item} na sobie\"\n",
    "        case {\"action\": \"attack\", \"target\": target, \"weapon\": weapon}:\n",
    "            return f\"Atakujesz {target} używając {weapon}\"\n",
    "        case {\"action\": \"move\", \"direction\": direction}:\n",
    "            return f\"Przemieszczasz się na {direction}\"\n",
    "        case _:\n",
    "            return \"Nieznana komenda\""
   ],
   "id": "418c9e7da2f343d"
  }
 ],
 "metadata": {
  "kernelspec": {
   "display_name": "Python 3",
   "language": "python",
   "name": "python3"
  },
  "language_info": {
   "codemirror_mode": {
    "name": "ipython",
    "version": 2
   },
   "file_extension": ".py",
   "mimetype": "text/x-python",
   "name": "python",
   "nbconvert_exporter": "python",
   "pygments_lexer": "ipython2",
   "version": "2.7.6"
  }
 },
 "nbformat": 4,
 "nbformat_minor": 5
}
