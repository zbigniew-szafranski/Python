{
 "cells": [
  {
   "metadata": {},
   "cell_type": "markdown",
   "source": "# Zadania z wykorzystaniem instrukcji match-case w Python",
   "id": "bbc81254b1ccfa1f"
  },
  {
   "metadata": {},
   "cell_type": "code",
   "outputs": [],
   "execution_count": null,
   "source": [
    "# Dni tygodnia\n",
    "def get_weekday(day_number):\n",
    "    match day_number:\n",
    "        case 1:\n",
    "            return \"Poniedziałek\"\n",
    "        case 2:\n",
    "            return \"Wtorek\"\n",
    "        case 3:\n",
    "            return \"Środa\"\n",
    "        case 4:\n",
    "            return \"Czwartek\"\n",
    "        case 5:\n",
    "            return \"Piątek\"\n",
    "        case 6:\n",
    "            return \"Sobota\"\n",
    "        case 7:\n",
    "            return \"Niedziela\"\n",
    "        case _:\n",
    "            return \"Nieprawidłowy numer dnia\"\n",
    "\n",
    "# Test\n",
    "print(get_weekday(1))\n",
    "print(get_weekday(5))\n",
    "print(get_weekday(8))"
   ],
   "id": "6980210b5ec2aefc"
  },
  {
   "metadata": {},
   "cell_type": "code",
   "outputs": [],
   "execution_count": null,
   "source": [
    "# Kalkulator\n",
    "def calculate(num1, operator, num2):\n",
    "    match operator:\n",
    "        case '+':\n",
    "            return num1 + num2\n",
    "        case '-':\n",
    "            return num1 - num2\n",
    "        case '*':\n",
    "            return num1 * num2\n",
    "        case '/':\n",
    "            if num2 != 0:\n",
    "                return num1 / num2\n",
    "            return \"Nie można dzielić przez 0\"\n",
    "        case _:\n",
    "            return \"Nieznany operator\"\n",
    "\n",
    "# Test\n",
    "print(calculate(10, '+', 5))\n",
    "print(calculate(10, '*', 5))\n",
    "print(calculate(10, '/', 0"
   ],
   "id": "761d347e2b42716a"
  },
  {
   "metadata": {},
   "cell_type": "code",
   "outputs": [],
   "execution_count": null,
   "source": [
    "# Status zamówienia\n",
    "def check_order_status(status):\n",
    "    match status.lower():\n",
    "        case \"nowe\":\n",
    "            return \"Zamówienie zostało przyjęte do realizacji\"\n",
    "        case \"w realizacji\":\n",
    "            return \"Pracujemy nad Twoim zamówieniem\"\n",
    "        case \"wysłane\":\n",
    "            return \"Twoje zamówienie jest w drodze\"\n",
    "        case \"dostarczone\":\n",
    "            return \"Zamówienie zostało dostarczone\"\n",
    "        case \"anulowane\":\n",
    "            return \"Zamówienie zostało anulowane\"\n",
    "        case _:\n",
    "            return \"Nieznany status zamówienia\"\n",
    "\n",
    "# Test\n",
    "print(check_order_status(\"nowe\"))\n",
    "print(check_order_status(\"wysłane\"))\n",
    "print(check_order_status(\""
   ],
   "id": "d1d9db88c7cb72e"
  },
  {
   "metadata": {},
   "cell_type": "code",
   "outputs": [],
   "execution_count": null,
   "source": [
    "# Wyniki gracza\n",
    "def get_player_rank(results):\n",
    "    match results:\n",
    "        case (points, time, level) if points > 1000 and time < 60 and level > 10:\n",
    "            return \"Mistrz\"\n",
    "        case (points, time, level) if points > 500 and time < 120 and level > 5:\n",
    "            return \"Expert\"\n",
    "        case _:\n",
    "            return \"Początkujący\"\n",
    "\n",
    "# Test\n",
    "print(get_player_rank((1200, 45, 12)))\n",
    "print(get_player_rank((600, 90, 7)))\n",
    "print(get_player_rank((300, 180, 3)))"
   ],
   "id": "91b437769f5ff716"
  },
  {
   "metadata": {},
   "cell_type": "code",
   "outputs": [],
   "execution_count": null,
   "source": [
    "# Parser komend RPG\n",
    "def parse_command(command):\n",
    "    match command:\n",
    "        case {\"akcja\": \"użyj\", \"przedmiot\": item, \"cel\": target}:\n",
    "            return f\"Używam {item} na {target}\"\n",
    "        case {\"akcja\": \"atak\", \"cel\": target, \"broń\": weapon}:\n",
    "            return f\"Atakuję {target} używając {weapon}\"\n",
    "        case _:\n",
    "            return \"Nieznana komenda\"\n",
    "\n",
    "# Test\n",
    "print(parse_command({\"akcja\": \"użyj\", \"przedmiot\": \"mikstura\", \"cel\": \"ja\"}))\n",
    "print(parse_command({\"akcja\": \"atak\", \"cel\": \"smok\", \"broń\": \"miecz\"}))\n",
    "print(parse_command({\"akcja\": \"uciekaj\"}))"
   ],
   "id": "20ca347915beb218"
  }
 ],
 "metadata": {
  "kernelspec": {
   "display_name": "Python 3",
   "language": "python",
   "name": "python3"
  },
  "language_info": {
   "codemirror_mode": {
    "name": "ipython",
    "version": 2
   },
   "file_extension": ".py",
   "mimetype": "text/x-python",
   "name": "python",
   "nbconvert_exporter": "python",
   "pygments_lexer": "ipython2",
   "version": "2.7.6"
  }
 },
 "nbformat": 4,
 "nbformat_minor": 5
}
