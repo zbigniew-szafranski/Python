{
 "cells": [
  {
   "metadata": {},
   "cell_type": "markdown",
   "source": [
    "# Match Case - zadania praktyczne\n",
    "Zestaw zadań do przećwiczenia konstrukcji match-case w Pythonie 3.10+"
   ],
   "id": "d09536352e08f4a1"
  },
  {
   "metadata": {},
   "cell_type": "markdown",
   "source": [
    "### Zadanie 1 - Dni tygodnia 🗓️\n",
    "Napisz program, który:\n",
    "- przyjmuje numer dnia tygodnia (1-7)\n",
    "- używając konstrukcji match-case\n",
    "- zwraca nazwę dnia po polsku\n",
    "\n",
    "Przykładowe wywołanie programu:"
   ],
   "id": "f5e41872e3212318"
  },
  {
   "metadata": {},
   "cell_type": "code",
   "outputs": [],
   "execution_count": null,
   "source": [
    "\n",
    "```"
   ],
   "id": "61b1573a0842c34b"
  },
  {
   "metadata": {},
   "cell_type": "code",
   "outputs": [],
   "execution_count": null,
   "source": [
    "\n",
    "```"
   ],
   "id": "b6bd9bdc8062d8d"
  },
  {
   "metadata": {},
   "cell_type": "markdown",
   "source": [
    "### Zadanie 2 - Mini kalkulator ➕\n",
    "Napisz program, który:\n",
    "- przyjmuje pierwszą liczbę\n",
    "- przyjmuje znak działania (+, -, *, /)\n",
    "- przyjmuje drugą liczbę\n",
    "- używając match-case wykonuje odpowiednie działanie\n",
    "\n",
    "Przykładowe wywołanie:"
   ],
   "id": "beababb10cf4ba32"
  },
  {
   "metadata": {},
   "cell_type": "code",
   "outputs": [],
   "execution_count": null,
   "source": [
    "```output\n",
    "8\n",
    "```"
   ],
   "id": "a8afe9ada86a6fca"
  },
  {
   "metadata": {},
   "cell_type": "code",
   "outputs": [],
   "execution_count": null,
   "source": [
    "\n",
    "```"
   ],
   "id": "bce3c84dfea1dfd2"
  },
  {
   "metadata": {},
   "cell_type": "markdown",
   "source": [
    "### Zadanie 3 - Śledzenie paczki 📦\n",
    "Napisz program, który:\n",
    "- przyjmuje status przesyłki\n",
    "- używając match-case\n",
    "- wyświetla odpowiedni komunikat dla statusów:\n",
    "  - \"nowe\"\n",
    "  - \"w realizacji\"\n",
    "  - \"wysłane\"\n",
    "  - \"dostarczone\"\n",
    "  - \"anulowane\""
   ],
   "id": "1ff0b0fea044a612"
  },
  {
   "metadata": {},
   "cell_type": "markdown",
   "source": [
    "### Zadanie 4 - Ranking gracza 🏆\n",
    "Napisz program, który:\n",
    "- przyjmuje krotkę z wynikami gracza (punkty, czas_gry, poziom)\n",
    "- używając match-case z warunkami\n",
    "- przyznaje rangę:\n",
    "  - \"Mistrz\" - trudne warunki do spełnienia\n",
    "  - \"Expert\" - średnie warunki\n",
    "  - \"Początkujący\" - pozostałe przypadki"
   ],
   "id": "7e542a349113b13b"
  },
  {
   "metadata": {},
   "cell_type": "markdown",
   "source": [
    "### Zadanie 5 - Gra przygodowa 🗡️\n",
    "Napisz program, który:\n",
    "- przyjmuje słownik z komendą gry\n",
    "- używając match-case ze wzorcami słowników\n",
    "- obsługuje różne typy komend, np.:\n",
    "  - {\"akcja\": \"użyj\", \"przedmiot\": \"mikstura\", \"cel\": \"ja\"}\n",
    "  - {\"akcja\": \"atak\", \"cel\": \"smok\", \"broń\": \"miecz\"}"
   ],
   "id": "760bde3e50a340dd"
  }
 ],
 "metadata": {
  "kernelspec": {
   "display_name": "Python 3",
   "language": "python",
   "name": "python3"
  },
  "language_info": {
   "codemirror_mode": {
    "name": "ipython",
    "version": 2
   },
   "file_extension": ".py",
   "mimetype": "text/x-python",
   "name": "python",
   "nbconvert_exporter": "python",
   "pygments_lexer": "ipython2",
   "version": "2.7.6"
  }
 },
 "nbformat": 4,
 "nbformat_minor": 5
}
