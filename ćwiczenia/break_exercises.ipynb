{
 "cells": [
  {
   "cell_type": "code",
   "execution_count": null,
   "id": "initial_id",
   "metadata": {
    "collapsed": true
   },
   "outputs": [],
   "source": [
    "# Znajdź liczbę 7 w przedziale od 1 do 10 używając pętli for i instrukcji break\n",
    "# Wpisz swoje rozwiązanie poniżej:\n",
    "numbers = range(1,11)\n",
    "for number in numbers:\n",
    "    if number == 7\n",
    "        break\n",
    "\n"
   ]
  },
  {
   "metadata": {},
   "cell_type": "markdown",
   "source": [
    "### Wskazówki:\n",
    "- Użyj pętli `for` z funkcją `range(1,11)`\n",
    "- Użyj instrukcji warunkowej `if` do sprawdzenia czy liczba jest równa 7\n",
    "- Użyj instrukcji `break` aby przerwać pętlę gdy znajdziesz 7\n",
    "- Wyświetl odpowiedni komunikat gdy znajdziesz liczbę 7"
   ],
   "id": "55965ff4ab69bd32"
  }
 ],
 "metadata": {
  "kernelspec": {
   "display_name": "Python 3",
   "language": "python",
   "name": "python3"
  },
  "language_info": {
   "codemirror_mode": {
    "name": "ipython",
    "version": 2
   },
   "file_extension": ".py",
   "mimetype": "text/x-python",
   "name": "python",
   "nbconvert_exporter": "python",
   "pygments_lexer": "ipython2",
   "version": "2.7.6"
  }
 },
 "nbformat": 4,
 "nbformat_minor": 5
}
