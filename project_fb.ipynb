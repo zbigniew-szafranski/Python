{
 "cells": [
  {
   "cell_type": "code",
   "execution_count": 3,
   "id": "73de2efb-a5ef-42a4-9339-cf0558c28479",
   "metadata": {},
   "outputs": [
    {
     "name": "stdout",
     "output_type": "stream",
     "text": [
      "<class 'pandas.core.frame.DataFrame'>\n",
      "DatetimeIndex: 2357 entries, 2021-09-29 to 2012-05-18\n",
      "Data columns (total 6 columns):\n",
      " #   Column      Non-Null Count  Dtype  \n",
      "---  ------      --------------  -----  \n",
      " 0   Close/Last  2357 non-null   object \n",
      " 1   Volume      2357 non-null   int64  \n",
      " 2   Open        2357 non-null   object \n",
      " 3   High        2357 non-null   object \n",
      " 4   Low         2357 non-null   object \n",
      " 5   Close       2357 non-null   float64\n",
      "dtypes: float64(1), int64(1), object(4)\n",
      "memory usage: 128.9+ KB\n"
     ]
    },
    {
     "name": "stderr",
     "output_type": "stream",
     "text": [
      "/tmp/ipykernel_32196/4191074059.py:6: FutureWarning: The argument 'date_parser' is deprecated and will be removed in a future version. Please use 'date_format' instead, or read your data in as 'object' dtype and then call 'to_datetime'.\n",
      "  df = pd.read_csv('/home/ibhiz/PycharmProjects/Python/projects/fb.csv',\n"
     ]
    }
   ],
   "source": [
    "import pandas as pd\n",
    "\n",
    "def remove_dollar(data: str) -> float:\n",
    "    return float(data.replace('$', ''))\n",
    "\n",
    "df = pd.read_csv('/home/ibhiz/PycharmProjects/Python/projects/fb.csv',\n",
    "                 parse_dates=['Date'],\n",
    "                 date_parser=lambda x: pd.to_datetime(x, format='%m/%d/%Y'),\n",
    "                 engine='python',\n",
    "                 index_col='Date',\n",
    "                 thousands='.'\n",
    ").assign(\n",
    "    Close=lambda x: x['Close/Last'].map(remove_dollar)\n",
    ")\n",
    "df.info()\n"
   ]
  },
  {
   "cell_type": "code",
   "execution_count": null,
   "id": "3d321d41-a6c1-4456-a025-541892baad51",
   "metadata": {},
   "outputs": [],
   "source": []
  }
 ],
 "metadata": {
  "kernelspec": {
   "display_name": "Python 3 (ipykernel)",
   "language": "python",
   "name": "python3"
  },
  "language_info": {
   "codemirror_mode": {
    "name": "ipython",
    "version": 3
   },
   "file_extension": ".py",
   "mimetype": "text/x-python",
   "name": "python",
   "nbconvert_exporter": "python",
   "pygments_lexer": "ipython3",
   "version": "3.12.3"
  }
 },
 "nbformat": 4,
 "nbformat_minor": 5
}
